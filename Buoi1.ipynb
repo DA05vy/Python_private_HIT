{
  "cells": [
    {
      "cell_type": "markdown",
      "source": [
        "Câu 1\n",
        "Python có thể làm được việc:\n",
        "+ Phát triển web\n",
        "+ Trí tuệ nhân tạo\n",
        "+ Phát triển phầm mềm\n",
        "+ Phát triển tự động hóa\n",
        "+ Xử lý hình ảnh và video\n",
        "+ Khoa học dữ liệu và học máy...\n",
        "+ v...v"
      ],
      "metadata": {
        "id": "SPiqU57gbPet"
      }
    },
    {
      "cell_type": "markdown",
      "source": [
        "Câu 2\n",
        "1. Cú pháp:\n",
        "+ Python: Cú pháp đơn giản, dễ đọc và dễ viết. Không cần phải định nghĩa kiểu dữ liệu trước.\n",
        "+ C++: Cú pháp phức tạp hơn, yêu cầu khai báo kiểu dữ liệu và có nhiều quy tắc hơn.\n",
        "\n",
        "2. Quản lý bộ nhớ:\n",
        "+ Python: Tự động quản lý bộ nhớ qua garbage collection, giúp giảm thiểu rò rỉ bộ nhớ.\n",
        "+ C++: Quản lý bộ nhớ thủ công, phải cấp phát và giải phóng bộ nhớ, dễ dẫn đến rò rỉ.\n",
        "\n",
        "3. Hiệu suất:\n",
        "+ Python: Thường chậm hơn C++ vì là ngôn ngữ thông dịch và không tối ưu hóa cho tốc độ.\n",
        "+ C++: Nhanh hơn do là ngôn ngữ biên dịch, có thể tối ưu hóa tốt cho hiệu suất.\n",
        "\n",
        "4. Hướng đối tượng:\n",
        "+ Python: Hỗ trợ lập trình hướng đối tượng nhưng cũng cho phép lập trình chức năng.\n",
        "+ C++: Hỗ trợ lập trình hướng đối tượng mạnh mẽ với các tính năng như kế thừa và đa hình.\n",
        "\n",
        "5. Thư viện và cộng đồng:\n",
        "+ Python: Có nhiều thư viện mạnh mẽ cho khoa học dữ liệu, học máy, web development, v.v.\n",
        "+ C++: Cũng có nhiều thư viện, đặc biệt cho phát triển hệ thống, game và ứng dụng hiệu suất cao, thi đấu.\n",
        "\n",
        "6. Ứng dụng:\n",
        "+ Python: Thường được sử dụng trong phát triển web, khoa học dữ liệu, học máy, tự động hóa.\n",
        "+ C++: Phù hợp cho phát triển game, hệ điều hành, ứng dụng yêu cầu hiệu suất cao.\n",
        "\n",
        "7. Học tập:\n",
        "+ Python: Dễ học cho người mới bắt đầu nhờ vào cú pháp rõ ràng.\n",
        "+ C++: Khó hơn cho người mới, cần nắm vững nhiều khái niệm cơ bản.\n"
      ],
      "metadata": {
        "id": "h-YAYoJub_q6"
      }
    },
    {
      "cell_type": "markdown",
      "source": [
        "Câu 3\n",
        "Python là ngôn ngữ thông dịch vì mã Python có thể được chạy trực tiếp mà không cần biên dịch trước. Khi bạn thực thi một chương trình Python, trình thông dịch sẽ đọc mã nguồn và thực hiện các lệnh ngay lập tức."
      ],
      "metadata": {
        "id": "aUNfxXVUdmlg"
      }
    },
    {
      "cell_type": "markdown",
      "source": [
        "Câu 5"
      ],
      "metadata": {
        "id": "4g-454XFhr1p"
      }
    },
    {
      "cell_type": "markdown",
      "source": [
        "\n",
        "*Khai báo biến: Python không cần chỉ định kiểu dữ liệu khi khai báo biến. Chỉ cần gán giá trị cho biến."
      ],
      "metadata": {
        "id": "OItI0lx_eFBW"
      }
    },
    {
      "cell_type": "code",
      "source": [
        "#Khai báo biến bình thường\n",
        "x = 10\n",
        "name = \"Alice\"\n",
        "is_active = True\n",
        "a = b = 1 #Khai báo chung giá trị\n",
        "name, tuoi = \"DA\", 6 #Khai báo chung dòng"
      ],
      "metadata": {
        "id": "NvkVD0TRhgBe"
      },
      "execution_count": 3,
      "outputs": []
    },
    {
      "cell_type": "markdown",
      "source": [
        "*Các toán tử: Python có nhiều loại toán tử                    \n",
        "Python hỗ trợ nhiều loại toán tử:\n",
        "1.   Toán tử số học\n",
        "*   +: Cộng\n",
        "*   -: Trừ\n",
        "*   *: Nhân\n",
        "*   /: Chia(kết quả là số thực)\n",
        "*   //: Chia lấy nguyên\n",
        "*   %: Chia lấy dư\n",
        "*   **: Lũy Thừa\n",
        "\n",
        "2.  Toán tử so sánh\n",
        "*   ==: Bằng\n",
        "*   !=: Khác\n",
        "*   (>): Lớn hơn\n",
        "*   <: Nhỏ hơn\n",
        "*   (>=): Lớn hơn hoặc bằng\n",
        "*   <=: Nhỏ hơn hoặc bằng\n",
        "\n",
        "3.  Toán tử logic:\n",
        "*   and : Phép logic và\n",
        "*   or : Phép logic hoặc\n",
        "*   not : Phép phủ định\n",
        "\n",
        "4.  Toán tử gán:\n",
        "*   =: Gán\n",
        "*   +=: Gán cộng\n",
        "*   -=: Gán trừ\n",
        "*   *=: Gán nhân\n",
        "*   /=: Gán chia\n",
        "*   %=: Gán dư\n",
        "*   **=: Gán lũy thừa\n",
        "*   //=: Gán phần nguyên\n",
        "\n",
        "5.  Toán tử bit:\n",
        "*   &\n",
        "*   |\n",
        "*   ^\n",
        "*   ~\n",
        "*   <<\n",
        "*   >>\n",
        "\n",
        "\n"
      ],
      "metadata": {
        "id": "NEjgJ3hahncB"
      }
    },
    {
      "cell_type": "code",
      "source": [
        "#Toán tử số học\n",
        "a = 7\n",
        "b = 3\n",
        "print(a + b)   # 10\n",
        "print(a - b)   # 4\n",
        "print(a * b)   # 21\n",
        "print(a / b)   # 2.333...\n",
        "print(a // b)  # 2 (chia lấy nguyên)\n",
        "print(a % b)   # 1 (chia lấy dư)\n",
        "print(a ** b)  # 343 (lũy thừa 7^3)\n"
      ],
      "metadata": {
        "id": "0v82k-GjjdHA",
        "outputId": "42131ddf-9cb4-4df1-8160-ed44ec49bfcb",
        "colab": {
          "base_uri": "https://localhost:8080/"
        }
      },
      "execution_count": 4,
      "outputs": [
        {
          "output_type": "stream",
          "name": "stdout",
          "text": [
            "10\n",
            "4\n",
            "21\n",
            "2.3333333333333335\n",
            "2\n",
            "1\n",
            "343\n"
          ]
        }
      ]
    },
    {
      "cell_type": "code",
      "source": [
        "#Toán tử so sánh\n",
        "x = 7\n",
        "y = 3\n",
        "print(x == y)   # False\n",
        "print(x != y)   # True\n",
        "print(x > y)    # True\n",
        "print(x < y)    # False\n",
        "print(x >= y)   # True\n",
        "print(x <= y)   # False"
      ],
      "metadata": {
        "id": "APrWlZdzk3xs",
        "outputId": "f72213e3-8e82-454a-c626-713caa177f25",
        "colab": {
          "base_uri": "https://localhost:8080/"
        }
      },
      "execution_count": 5,
      "outputs": [
        {
          "output_type": "stream",
          "name": "stdout",
          "text": [
            "False\n",
            "True\n",
            "True\n",
            "False\n",
            "True\n",
            "False\n"
          ]
        }
      ]
    },
    {
      "cell_type": "code",
      "source": [
        "#Toán tử logic\n",
        "x = True\n",
        "y = False\n",
        "print(x and y)   # False\n",
        "print(x or y)    # True\n",
        "print(not x)     # False"
      ],
      "metadata": {
        "id": "v2UZvuenlDij",
        "outputId": "6289155a-cd1b-493d-b8fd-8863d1917dab",
        "colab": {
          "base_uri": "https://localhost:8080/"
        }
      },
      "execution_count": 6,
      "outputs": [
        {
          "output_type": "stream",
          "name": "stdout",
          "text": [
            "False\n",
            "True\n",
            "False\n"
          ]
        }
      ]
    },
    {
      "cell_type": "code",
      "source": [
        "#Toán tử gán\n",
        "x = 5\n",
        "x += 2    # x = 7\n",
        "x -= 4    # x = 3\n",
        "x *= 7    # x = 21\n",
        "x /= 5    # x = 4.2\n",
        "print(x)"
      ],
      "metadata": {
        "id": "LqAC6z_TlIlu",
        "outputId": "65bb0954-7c34-4889-da60-9ca331cba1fb",
        "colab": {
          "base_uri": "https://localhost:8080/"
        }
      },
      "execution_count": 10,
      "outputs": [
        {
          "output_type": "stream",
          "name": "stdout",
          "text": [
            "4.2\n"
          ]
        }
      ]
    },
    {
      "cell_type": "code",
      "source": [
        "#Toán tử bit\n",
        "a = 12    # 60 = 0000 1100\n",
        "b = 15    # 13 = 0000 1111\n",
        "print(a & b)   # 12 (0000 1100)\n",
        "print(a | b)   # 15 (0000 1111)\n",
        "print(a ^ b)   # 3  (0000 0011)\n",
        "print(~a)      # -13 (bit đảo ngược của a)\n",
        "print(a << 2)  # 48 (dịch trái 2 bit, 0000 1100 -> 0011 0000)\n",
        "print(a >> 2)  # 15 (dịch phải 2 bit, 0000 1100 -> 0000 0011)\n"
      ],
      "metadata": {
        "id": "bD3KTWCenVv0",
        "outputId": "492e1514-dace-4378-faa8-ee61d3d476c3",
        "colab": {
          "base_uri": "https://localhost:8080/"
        }
      },
      "execution_count": 12,
      "outputs": [
        {
          "output_type": "stream",
          "name": "stdout",
          "text": [
            "12\n",
            "15\n",
            "3\n",
            "-13\n",
            "48\n",
            "3\n"
          ]
        }
      ]
    },
    {
      "cell_type": "markdown",
      "source": [
        "*Các kiểu dữ liệu trong Python:\n",
        "\n",
        "* Số nguyên (int)\n",
        "* Số thực (float)\n",
        "* Chuỗi (str)\n",
        "* Boolean ( bool )\n",
        "* Danh sách ( list )\n",
        "* Từ điển ( dict )"
      ],
      "metadata": {
        "id": "tKcuYFWuo_Rn"
      }
    },
    {
      "cell_type": "code",
      "source": [
        "\n",
        "a = 5\n",
        "b = \"True\"\n",
        "e = 1.2\n",
        "\n",
        "print(type(a))  #Integer\n",
        "print(type(e))  #Float\n",
        "\n",
        "#String\n",
        "c = str(b);\n",
        "print(c)\n",
        "print(type(c))\n",
        "\n",
        "#Boolean\n",
        "d = bool(b)\n",
        "print(type(d))\n",
        "\n",
        "#List\n",
        "a = [ 1,4,5,\"a\",\"b\"]\n",
        "print(a)\n",
        "print(type(a))\n",
        "\n",
        "#Dictionary\n",
        "a ={1: \"Code\", 2: 25}\n",
        "print(a)\n",
        "print(type(a))"
      ],
      "metadata": {
        "id": "h4thiLholh8k",
        "outputId": "8b08d117-028e-4d55-a924-a4747c2d792f",
        "colab": {
          "base_uri": "https://localhost:8080/"
        }
      },
      "execution_count": 19,
      "outputs": [
        {
          "output_type": "stream",
          "name": "stdout",
          "text": [
            "<class 'int'>\n",
            "<class 'float'>\n",
            "True\n",
            "<class 'str'>\n",
            "<class 'bool'>\n",
            "[1, 4, 5, 'a', 'b']\n",
            "<class 'list'>\n",
            "{1: 'Code', 2: 25}\n",
            "<class 'dict'>\n"
          ]
        }
      ]
    },
    {
      "cell_type": "code",
      "source": [],
      "metadata": {
        "id": "7j7gdk2mrbgx"
      },
      "execution_count": null,
      "outputs": []
    }
  ],
  "metadata": {
    "colab": {
      "name": "Colaboratory chào mừng bạn!",
      "toc_visible": true,
      "provenance": []
    },
    "kernelspec": {
      "display_name": "Python 3",
      "name": "python3"
    }
  },
  "nbformat": 4,
  "nbformat_minor": 0
}